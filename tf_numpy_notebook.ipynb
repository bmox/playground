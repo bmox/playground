{
  "nbformat": 4,
  "nbformat_minor": 0,
  "metadata": {
    "colab": {
      "name": " tf-numpy-notebook.ipynb",
      "provenance": [],
      "collapsed_sections": [],
      "include_colab_link": true
    },
    "kernelspec": {
      "name": "python3",
      "display_name": "Python 3"
    },
    "accelerator": "GPU"
  },
  "cells": [
    {
      "cell_type": "markdown",
      "metadata": {
        "id": "view-in-github",
        "colab_type": "text"
      },
      "source": [
        "<a href=\"https://colab.research.google.com/github/bmox/playground/blob/main/tf_numpy_notebook.ipynb\" target=\"_parent\"><img src=\"https://colab.research.google.com/assets/colab-badge.svg\" alt=\"Open In Colab\"/></a>"
      ]
    },
    {
      "cell_type": "code",
      "metadata": {
        "id": "Xs9R95KtpHBK"
      },
      "source": [
        "# This code help you to save lot of time\r\n",
        "# Watch this video\r\n",
        "# https://youtu.be/mgY46AEXnG0"
      ],
      "execution_count": null,
      "outputs": []
    },
    {
      "cell_type": "code",
      "metadata": {
        "id": "gLC4lT_spF02"
      },
      "source": [
        "# https://www.tensorflow.org/guide/tf_numpy"
      ],
      "execution_count": null,
      "outputs": []
    },
    {
      "cell_type": "code",
      "metadata": {
        "id": "LgDYonM40OKp"
      },
      "source": [
        "# !pip install --quiet --upgrade tf-nightly"
      ],
      "execution_count": null,
      "outputs": []
    },
    {
      "cell_type": "code",
      "metadata": {
        "colab": {
          "base_uri": "https://localhost:8080/"
        },
        "id": "LvbXa6HavIRm",
        "outputId": "d9df50e3-af77-4f8c-b1d1-05e4796aef5a"
      },
      "source": [
        "!nvidia-smi"
      ],
      "execution_count": null,
      "outputs": [
        {
          "output_type": "stream",
          "text": [
            "Wed Mar 17 09:58:52 2021       \n",
            "+-----------------------------------------------------------------------------+\n",
            "| NVIDIA-SMI 460.56       Driver Version: 460.32.03    CUDA Version: 11.2     |\n",
            "|-------------------------------+----------------------+----------------------+\n",
            "| GPU  Name        Persistence-M| Bus-Id        Disp.A | Volatile Uncorr. ECC |\n",
            "| Fan  Temp  Perf  Pwr:Usage/Cap|         Memory-Usage | GPU-Util  Compute M. |\n",
            "|                               |                      |               MIG M. |\n",
            "|===============================+======================+======================|\n",
            "|   0  Tesla K80           Off  | 00000000:00:04.0 Off |                    0 |\n",
            "| N/A   34C    P8    27W / 149W |      0MiB / 11441MiB |      0%      Default |\n",
            "|                               |                      |                  N/A |\n",
            "+-------------------------------+----------------------+----------------------+\n",
            "                                                                               \n",
            "+-----------------------------------------------------------------------------+\n",
            "| Processes:                                                                  |\n",
            "|  GPU   GI   CI        PID   Type   Process name                  GPU Memory |\n",
            "|        ID   ID                                                   Usage      |\n",
            "|=============================================================================|\n",
            "|  No running processes found                                                 |\n",
            "+-----------------------------------------------------------------------------+\n"
          ],
          "name": "stdout"
        }
      ]
    },
    {
      "cell_type": "code",
      "metadata": {
        "id": "OcaOu73LvQJV"
      },
      "source": [
        "import time\r\n",
        "import numpy as np\r\n",
        "import tensorflow as tf\r\n",
        "import tensorflow.experimental.numpy as tnp"
      ],
      "execution_count": null,
      "outputs": []
    },
    {
      "cell_type": "code",
      "metadata": {
        "colab": {
          "base_uri": "https://localhost:8080/"
        },
        "id": "BCk6r1sZOy9P",
        "outputId": "26cb391d-cdf3-4af8-c4b7-1f1f8a3fc296"
      },
      "source": [
        "print(tf.__version__)"
      ],
      "execution_count": null,
      "outputs": [
        {
          "output_type": "stream",
          "text": [
            "2.4.1\n"
          ],
          "name": "stdout"
        }
      ]
    },
    {
      "cell_type": "code",
      "metadata": {
        "colab": {
          "base_uri": "https://localhost:8080/"
        },
        "id": "gjRumYZXzbaT",
        "outputId": "ae1237b5-4320-4014-c213-8f3cc0e60bcc"
      },
      "source": [
        "try:\r\n",
        "  device = tf.config.list_logical_devices(device_type=\"GPU\")[0]\r\n",
        "except IndexError:\r\n",
        "  device = \"/device:CPU:0\"\r\n",
        "print(device)"
      ],
      "execution_count": null,
      "outputs": [
        {
          "output_type": "stream",
          "text": [
            "LogicalDevice(name='/device:GPU:0', device_type='GPU')\n"
          ],
          "name": "stdout"
        }
      ]
    },
    {
      "cell_type": "code",
      "metadata": {
        "id": "dboA_OzevaaQ"
      },
      "source": [
        "arr_size = 10000"
      ],
      "execution_count": null,
      "outputs": []
    },
    {
      "cell_type": "markdown",
      "metadata": {
        "id": "JVCO-Jp2zvsB"
      },
      "source": [
        "# Numpy Matrix Multiplication"
      ]
    },
    {
      "cell_type": "code",
      "metadata": {
        "id": "A2jcV39kxI5R"
      },
      "source": [
        "np_arr1 = np.random.rand(arr_size, arr_size)\r\n",
        "np_arr2 = np.random.rand(arr_size, arr_size)"
      ],
      "execution_count": null,
      "outputs": []
    },
    {
      "cell_type": "code",
      "metadata": {
        "colab": {
          "base_uri": "https://localhost:8080/"
        },
        "id": "ivHXE_NSvq05",
        "outputId": "b73430f5-a820-4865-bf8c-738bf52c3093"
      },
      "source": [
        "start = time.process_time()\r\n",
        "np_arr3 = np.matmul(np_arr1, np_arr2)\r\n",
        "numpy_time = time.process_time() - start\r\n",
        "print(numpy_time)"
      ],
      "execution_count": null,
      "outputs": [
        {
          "output_type": "stream",
          "text": [
            "115.85897438800001\n"
          ],
          "name": "stdout"
        }
      ]
    },
    {
      "cell_type": "markdown",
      "metadata": {
        "id": "noSIndF4zz0e"
      },
      "source": [
        "# TF Numpy Matrix Multiplication"
      ]
    },
    {
      "cell_type": "code",
      "metadata": {
        "colab": {
          "base_uri": "https://localhost:8080/"
        },
        "id": "O2-F1D7Kxowr",
        "outputId": "1324b898-b058-4882-f963-cf439f3fefbd"
      },
      "source": [
        "start = time.process_time()\r\n",
        "with tf.device(device):\r\n",
        "  tf_arr1 = tnp.random.rand(arr_size, arr_size)\r\n",
        "  tf_arr2 = tnp.random.rand(arr_size, arr_size)\r\n",
        "  tf_out = tnp.matmul(tf_arr1, tf_arr2)\r\n",
        "tf_time = time.process_time() - start\r\n",
        "print(tf_time)"
      ],
      "execution_count": null,
      "outputs": [
        {
          "output_type": "stream",
          "text": [
            "0.3897916410000022\n"
          ],
          "name": "stdout"
        }
      ]
    },
    {
      "cell_type": "code",
      "metadata": {
        "colab": {
          "base_uri": "https://localhost:8080/"
        },
        "id": "-haxytjQyj75",
        "outputId": "99cf8ac4-1958-4547-d3dc-0add65b1f823"
      },
      "source": [
        "numpy_time/tf_time"
      ],
      "execution_count": null,
      "outputs": [
        {
          "output_type": "execute_result",
          "data": {
            "text/plain": [
              "297.2330912247535"
            ]
          },
          "metadata": {
            "tags": []
          },
          "execution_count": 11
        }
      ]
    },
    {
      "cell_type": "code",
      "metadata": {
        "id": "vvUcXCMr9KKF"
      },
      "source": [
        ""
      ],
      "execution_count": null,
      "outputs": []
    }
  ]
}