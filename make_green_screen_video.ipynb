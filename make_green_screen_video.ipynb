{
  "nbformat": 4,
  "nbformat_minor": 0,
  "metadata": {
    "accelerator": "GPU",
    "colab": {
      "name": "make  green screen video",
      "provenance": [],
      "collapsed_sections": [],
      "toc_visible": true,
      "machine_shape": "hm",
      "include_colab_link": true
    },
    "kernelspec": {
      "display_name": "Python 3",
      "name": "python3"
    }
  },
  "cells": [
    {
      "cell_type": "markdown",
      "metadata": {
        "id": "view-in-github",
        "colab_type": "text"
      },
      "source": [
        "<a href=\"https://colab.research.google.com/github/bmox/playground/blob/main/make_green_screen_video.ipynb\" target=\"_parent\"><img src=\"https://colab.research.google.com/assets/colab-badge.svg\" alt=\"Open In Colab\"/></a>"
      ]
    },
    {
      "cell_type": "markdown",
      "metadata": {
        "id": "2nUmOMBy7jk0"
      },
      "source": [
        "#must enable gpu\r\n",
        "Please visit official version. This is for my private use\r\n",
        "\r\n",
        "https://github.com/PeterL1n/BackgroundMattingV2"
      ]
    },
    {
      "cell_type": "code",
      "metadata": {
        "colab": {
          "base_uri": "https://localhost:8080/"
        },
        "cellView": "form",
        "id": "G0iDebQE34Ws",
        "outputId": "60ffe72a-df0b-49a4-91e5-ac5099dba5b4"
      },
      "source": [
        "from google.colab import drive\r\n",
        "from IPython.display import clear_output\r\n",
        "import os\r\n",
        "storage=\"google drive\"#@param[\"temporary\",\"google drive\"]\r\n",
        "if storage==\"google drive\":\r\n",
        "  drive.mount('/content/gdrive')\r\n",
        "  os.chdir(\"/content/gdrive/MyDrive/\")\r\n",
        "  clear_output()\r\n",
        "  print(\"Using drive as a storage\")\r\n",
        "elif storage==\"temporary\":\r\n",
        "  os.chdir(\"/content/\")\r\n",
        "  print(\"Using colab as a temporary storage\")"
      ],
      "execution_count": null,
      "outputs": [
        {
          "output_type": "stream",
          "text": [
            "Using drive as a storage\n"
          ],
          "name": "stdout"
        }
      ]
    },
    {
      "cell_type": "markdown",
      "metadata": {
        "id": "Gm3a9Nph4LSU"
      },
      "source": [
        "[add this folder to your drive]( https://drive.google.com/drive/folders/1FtcSSuLIfNg_faIHf4tw7lMcj3sz5hjT?usp=sharing) <br>\r\n",
        " In this specific path\r\n",
        "\r\n",
        " /content/gdrive/MyDrive"
      ]
    },
    {
      "cell_type": "code",
      "metadata": {
        "colab": {
          "base_uri": "https://localhost:8080/"
        },
        "id": "O57ajoKA4drX",
        "outputId": "e3703435-226d-4b0e-97d3-0c7ca08c38c5"
      },
      "source": [
        "%cd /content/gdrive/MyDrive/green_screen"
      ],
      "execution_count": null,
      "outputs": [
        {
          "output_type": "stream",
          "text": [
            "/content/gdrive/MyDrive/green_screen\n"
          ],
          "name": "stdout"
        }
      ]
    },
    {
      "cell_type": "code",
      "metadata": {
        "cellView": "form",
        "id": "Gg7aSXKn4qoh"
      },
      "source": [
        "#rename video as src.mp4\r\n",
        "enter_video_path = \"/content/gdrive/MyDrive/green_screen/input/src.mp4\" #@param {type:\"string\"}\r\n",
        "#rename backgroud as bgr.png\r\n",
        "enter_background_path= \"/content/gdrive/MyDrive/green_screen/input/bgr.png\" #@param {type:\"string\"}\r\n",
        "enter_model_path= \"/content/gdrive/MyDrive/green_screen/Model/model.pth\" #@param {type:\"string\"}\r\n",
        "\r\n",
        "import os\r\n",
        "try:\r\n",
        "  os.rename(enter_video_path,\"/content/gdrive/MyDrive/green_screen/input/src.mp4\")\r\n",
        "except:\r\n",
        "  pass\r\n",
        "try:\r\n",
        "  os.rename(enter_background_path,\"/content/gdrive/MyDrive/green_screen/input/bgr.png\")\r\n",
        "except:\r\n",
        "  pass"
      ],
      "execution_count": null,
      "outputs": []
    },
    {
      "cell_type": "code",
      "metadata": {
        "colab": {
          "base_uri": "https://localhost:8080/"
        },
        "id": "M-k1M0SS4m_b",
        "outputId": "6c9daf86-a0f2-45b0-c700-e38ab8b009df"
      },
      "source": [
        "%cd /content/gdrive/MyDrive/green_screen/BackgroundMattingV2"
      ],
      "execution_count": null,
      "outputs": [
        {
          "output_type": "stream",
          "text": [
            "/content/gdrive/MyDrive/green_screen/BackgroundMattingV2\n"
          ],
          "name": "stdout"
        }
      ]
    },
    {
      "cell_type": "code",
      "metadata": {
        "colab": {
          "base_uri": "https://localhost:8080/",
          "height": 107
        },
        "id": "d1L-1L6N5wBU",
        "outputId": "a5246d98-f397-4e7c-e9ec-18690c806b6a"
      },
      "source": [
        "py_code=f'!python inference_video.py --model-type mattingrefine \\\r\n",
        "        --model-backbone resnet50 \\\r\n",
        "        --model-backbone-scale 0.25 \\\r\n",
        "        --model-refine-mode sampling \\\r\n",
        "        --model-refine-sample-pixels 80000 \\\r\n",
        "        --model-checkpoint \"{enter_model_path}\" \\\r\n",
        "        --video-src \"{enter_video_path}\" \\\r\n",
        "        --video-bgr \"{enter_background_path}\" \\\r\n",
        "        --output-dir \"/content/gdrive/MyDrive/green_screen/output\" \\\r\n",
        "        --output-type com fgr pha err ref'\r\n",
        "py_code        "
      ],
      "execution_count": null,
      "outputs": [
        {
          "output_type": "execute_result",
          "data": {
            "application/vnd.google.colaboratory.intrinsic+json": {
              "type": "string"
            },
            "text/plain": [
              "'!python inference_video.py --model-type mattingrefine         --model-backbone resnet50         --model-backbone-scale 0.25         --model-refine-mode sampling         --model-refine-sample-pixels 80000         --model-checkpoint \"/content/gdrive/MyDrive/green_screen/Model/model.pth\"         --video-src \"/content/gdrive/MyDrive/green_screen/input/src.mp4\"         --video-bgr \"/content/gdrive/MyDrive/green_screen/input/bgr.png\"         --output-dir \"/content/gdrive/MyDrive/green_screen/output\"         --output-type com fgr pha err ref'"
            ]
          },
          "metadata": {
            "tags": []
          },
          "execution_count": 6
        }
      ]
    },
    {
      "cell_type": "code",
      "metadata": {
        "colab": {
          "base_uri": "https://localhost:8080/"
        },
        "id": "Iieyl9T46YbF",
        "outputId": "ed855bfe-e003-4b36-c287-aa434364d231"
      },
      "source": [
        "!python inference_video.py --model-type mattingrefine         --model-backbone resnet50         --model-backbone-scale 0.25         --model-refine-mode sampling         --model-refine-sample-pixels 80000         --model-checkpoint \"/content/gdrive/MyDrive/green_screen/Model/model.pth\"         --video-src \"/content/gdrive/MyDrive/green_screen/input/src.mp4\"         --video-bgr \"/content/gdrive/MyDrive/green_screen/input/bgr.png\"         --output-dir \"/content/gdrive/MyDrive/green_screen/output\"         --output-type com fgr pha err ref"
      ],
      "execution_count": null,
      "outputs": [
        {
          "output_type": "stream",
          "text": [
            "Directory /content/gdrive/MyDrive/green_screen/output already exists. Override? [Y/N]: y\n",
            " 51% 337/660 [00:59<00:55,  5.82it/s]\n",
            "100% 660/660 [01:54<00:00,  5.77it/s]\n"
          ],
          "name": "stdout"
        }
      ]
    }
  ]
}